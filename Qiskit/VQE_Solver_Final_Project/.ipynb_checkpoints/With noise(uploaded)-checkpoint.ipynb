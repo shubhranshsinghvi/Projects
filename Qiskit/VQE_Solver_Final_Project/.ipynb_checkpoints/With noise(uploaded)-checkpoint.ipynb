{
 "cells": [
  {
   "cell_type": "markdown",
   "metadata": {},
   "source": [
    "# Qiskit Summer School Final Project: VQE\n",
    "\n",
    "#### For this optional final challenge, you will be designing your own implementation of a variational quantum eigensolver (VQE) algorithm that simulates the ground state energy of the Lithium Hydride (LiH) molecule. Through out this challenge, you will be able to make choices on how you want to compose your simulation and what is the final deliverable that you want to showcase to your classmates and friends.#  IMPORT STATEMENTS"
   ]
  },
  {
   "cell_type": "markdown",
   "metadata": {},
   "source": [
    "## Import Statements"
   ]
  },
  {
   "cell_type": "code",
   "execution_count": 12,
   "metadata": {},
   "outputs": [
    {
     "name": "stderr",
     "output_type": "stream",
     "text": [
      "ibmqfactory.load_account:WARNING:2020-08-07 15:35:42,601: Credentials are already in use. The existing account in the session will be replaced.\n"
     ]
    }
   ],
   "source": [
    "from qiskit import BasicAer, Aer, IBMQ\n",
    "from qiskit.aqua import QuantumInstance, aqua_globals\n",
    "from qiskit.aqua.algorithms import VQE, ExactEigensolver, NumPyEigensolver\n",
    "from qiskit.aqua.components.initial_states import Zero\n",
    "from qiskit.aqua.components.optimizers import COBYLA, L_BFGS_B, SLSQP, SPSA\n",
    "from qiskit.aqua.components.variational_forms import RY, RYRZ, SwapRZ\n",
    "from qiskit.aqua.operators import WeightedPauliOperator, Z2Symmetries\n",
    "from qiskit.chemistry import FermionicOperator\n",
    "from qiskit.chemistry.drivers import PySCFDriver, UnitsType\n",
    "from qiskit.chemistry.components.variational_forms import UCCSD\n",
    "from qiskit.chemistry.components.initial_states import HartreeFock\n",
    "from qiskit.circuit.library import EfficientSU2\n",
    "from qiskit.providers.aer import QasmSimulator\n",
    "from qiskit.providers.aer.noise import NoiseModel\n",
    "from qiskit.providers.aer.noise.errors import QuantumError, ReadoutError\n",
    "from qiskit.providers.aer.noise.errors import pauli_error\n",
    "from qiskit.providers.aer.noise.errors import depolarizing_error\n",
    "from qiskit.providers.aer.noise.errors import thermal_relaxation_error\n",
    "from qiskit.ignis.mitigation.measurement import CompleteMeasFitter\n",
    "from qiskit.providers.aer import noise\n",
    "provider = IBMQ.load_account()\n",
    "import warnings\n",
    "warnings.filterwarnings('ignore')\n",
    "import numpy as np\n",
    "import matplotlib.pyplot as plt\n",
    "from functools import partial"
   ]
  },
  {
   "cell_type": "markdown",
   "metadata": {},
   "source": [
    "## Classically solve for the lowest eigenvalue"
   ]
  },
  {
   "cell_type": "code",
   "execution_count": 13,
   "metadata": {},
   "outputs": [],
   "source": [
    "def exact_solver(qubitOp,shift):\n",
    "    ee = NumPyEigensolver(qubitOp)\n",
    "    result = ee.run()\n",
    "    ref = result['energy'] + shift\n",
    "    return np.real(ref)"
   ]
  },
  {
   "cell_type": "markdown",
   "metadata": {},
   "source": [
    "## Simulation backend"
   ]
  },
  {
   "cell_type": "code",
   "execution_count": 14,
   "metadata": {},
   "outputs": [],
   "source": [
    "backend=Aer.get_backend('qasm_simulator')"
   ]
  },
  {
   "cell_type": "markdown",
   "metadata": {},
   "source": [
    "## MAPPING TYPE"
   ]
  },
  {
   "cell_type": "code",
   "execution_count": 15,
   "metadata": {},
   "outputs": [],
   "source": [
    "map_type=\"parity\""
   ]
  },
  {
   "cell_type": "markdown",
   "metadata": {},
   "source": [
    "## Noise Model"
   ]
  },
  {
   "cell_type": "code",
   "execution_count": 16,
   "metadata": {},
   "outputs": [],
   "source": [
    "#Define our noise model based on the ibmq_essex chip\n",
    "chip_name = 'ibmq_essex'\n",
    "device = provider.get_backend(chip_name)\n",
    "coupling_map = device.configuration().coupling_map\n",
    "noise_model = noise.device.basic_device_noise_model(device.properties())\n",
    "basis_gates = noise_model.basis_gates"
   ]
  },
  {
   "cell_type": "markdown",
   "metadata": {},
   "source": [
    "## Define your function for computing the qubit operations of LiH"
   ]
  },
  {
   "cell_type": "code",
   "execution_count": 17,
   "metadata": {},
   "outputs": [],
   "source": [
    "def compute_LiH_qubitOp(map_type, inter_dist, basis='sto3g'):\n",
    "    \n",
    "    # Specify details of our molecule\n",
    "    driver = PySCFDriver(atom='Li .0 .0 .0; H .0 .0 ' + str(inter_dist), unit=UnitsType.ANGSTROM, charge=0, spin=0, basis=basis)\n",
    "\n",
    "    # Compute relevant 1 and 2 body integrals.\n",
    "    molecule = driver.run()\n",
    "    h1 = molecule.one_body_integrals\n",
    "    h2 = molecule.two_body_integrals\n",
    "    nuclear_repulsion_energy = molecule.nuclear_repulsion_energy\n",
    "    \n",
    "    num_particles = molecule.num_alpha + molecule.num_beta\n",
    "    num_spin_orbitals = molecule.num_orbitals * 2\n",
    "#     print(\"HF energy: {}\".format(molecule.hf_energy - molecule.nuclear_repulsion_energy))\n",
    "#     print(\"# of electrons: {}\".format(num_particles))\n",
    "#     print(\"# of spin orbitals: {}\".format(num_spin_orbitals))\n",
    "\n",
    "    # Please be aware that the idx here with respective to original idx\n",
    "    freeze_list = [0]\n",
    "    remove_list = [-3, -2] # negative number denotes the reverse order\n",
    "    \n",
    "    # Prepare full idx of freeze_list and remove_list\n",
    "    # Convert all negative idx to positive\n",
    "    remove_list = [x % molecule.num_orbitals for x in remove_list]\n",
    "    freeze_list = [x % molecule.num_orbitals for x in freeze_list]\n",
    "    \n",
    "    # Update the idx in remove_list of the idx after frozen, since the idx of orbitals are changed after freezing\n",
    "    remove_list = [x - len(freeze_list) for x in remove_list]\n",
    "    remove_list += [x + molecule.num_orbitals - len(freeze_list)  for x in remove_list]\n",
    "    freeze_list += [x + molecule.num_orbitals for x in freeze_list]\n",
    "\n",
    "    # Prepare fermionic hamiltonian with orbital freezing and eliminating, and then map to qubit hamiltonian\n",
    "    # and if PARITY mapping is selected, reduction qubits\n",
    "    energy_shift = 0.0\n",
    "    qubit_reduction = True if map_type == 'parity' else False\n",
    "\n",
    "    ferOp = FermionicOperator(h1=h1, h2=h2)\n",
    "    if len(freeze_list) > 0:\n",
    "        ferOp, energy_shift = ferOp.fermion_mode_freezing(freeze_list)\n",
    "        num_spin_orbitals -= len(freeze_list)\n",
    "        num_particles -= len(freeze_list)\n",
    "    if len(remove_list) > 0:\n",
    "        ferOp = ferOp.fermion_mode_elimination(remove_list)\n",
    "        num_spin_orbitals -= len(remove_list)\n",
    "\n",
    "    qubitOp = ferOp.mapping(map_type=map_type)\n",
    "    qubitOp = Z2Symmetries.two_qubit_reduction(qubitOp, num_particles) if qubit_reduction else qubitOp\n",
    "    qubitOp.chop(10**-10)\n",
    "    shift = energy_shift + molecule.nuclear_repulsion_energy\n",
    "    return qubitOp, num_spin_orbitals, num_particles, qubit_reduction, shift"
   ]
  },
  {
   "cell_type": "markdown",
   "metadata": {},
   "source": [
    "## Execute the VQE algorithm for different values of inter_dist"
   ]
  },
  {
   "cell_type": "code",
   "execution_count": 21,
   "metadata": {},
   "outputs": [
    {
     "name": "stdout",
     "output_type": "stream",
     "text": [
      "Interatomic Distance: 0.5 VQE Result: -6.876848376622101 Exact Energy: -7.039732521635204\n",
      "Interatomic Distance: 0.5 error 0.1628841450131029\n",
      "Interatomic Distance: 0.6 VQE Result: -7.057091730093618 Exact Energy: -7.313345828761006\n",
      "Interatomic Distance: 0.6 error 0.25625409866738735\n",
      "Interatomic Distance: 0.7 VQE Result: -7.339928715132351 Exact Energy: -7.500922090905932\n",
      "Interatomic Distance: 0.7 error 0.16099337577358064\n",
      "Interatomic Distance: 0.8 VQE Result: -7.425093257132641 Exact Energy: -7.6309782493332055\n",
      "Interatomic Distance: 0.8 error 0.20588499220056455\n",
      "Interatomic Distance: 0.9 VQE Result: -7.304872248744027 Exact Energy: -7.7208124121347765\n",
      "Interatomic Distance: 0.9 error 0.4159401633907498\n",
      "Interatomic Distance: 1.0 VQE Result: -7.566904211789633 Exact Energy: -7.78224240263701\n",
      "Interatomic Distance: 1.0 error 0.21533819084737704\n",
      "Interatomic Distance: 1.1 VQE Result: -7.5468293636901205 Exact Energy: -7.823599276362811\n",
      "Interatomic Distance: 1.1 error 0.27676991267269013\n",
      "Interatomic Distance: 1.2 VQE Result: -7.638976344457857 Exact Energy: -7.850698377596021\n",
      "Interatomic Distance: 1.2 error 0.2117220331381633\n",
      "Interatomic Distance: 1.3 VQE Result: -7.743328271620269 Exact Energy: -7.867563290110053\n",
      "Interatomic Distance: 1.3 error 0.12423501848978358\n",
      "Interatomic Distance: 1.4 VQE Result: -7.602659087075189 Exact Energy: -7.877001491818371\n",
      "Interatomic Distance: 1.4 error 0.27434240474318194\n",
      "Interatomic Distance: 1.5 VQE Result: -7.717485529274826 Exact Energy: -7.881015715647001\n",
      "Interatomic Distance: 1.5 error 0.1635301863721752\n",
      "Interatomic Distance: 1.6 VQE Result: -7.716008944807508 Exact Energy: -7.88107204403092\n",
      "Interatomic Distance: 1.6 error 0.16506309922341167\n",
      "Interatomic Distance: 1.7 VQE Result: -7.653937479802902 Exact Energy: -7.878268167584998\n",
      "Interatomic Distance: 1.7 error 0.22433068778209542\n",
      "Interatomic Distance: 1.8 VQE Result: -7.687647935030692 Exact Energy: -7.873440293132829\n",
      "Interatomic Distance: 1.8 error 0.18579235810213657\n",
      "Interatomic Distance: 1.9 VQE Result: -7.719548216507769 Exact Energy: -7.867233964816032\n",
      "Interatomic Distance: 1.9 error 0.14768574830826342\n",
      "Interatomic Distance: 2.0 VQE Result: -7.638920393054452 Exact Energy: -7.860153207378778\n",
      "Interatomic Distance: 2.0 error 0.22123281432432584\n",
      "Interatomic Distance: 2.1 VQE Result: -7.671238180535578 Exact Energy: -7.852595827876733\n",
      "Interatomic Distance: 2.1 error 0.18135764734115511\n",
      "Interatomic Distance: 2.2 VQE Result: -7.655603806598745 Exact Energy: -7.844879093009718\n",
      "Interatomic Distance: 2.2 error 0.18927528641097258\n",
      "Interatomic Distance: 2.3 VQE Result: -7.671215189346423 Exact Energy: -7.837257967615509\n",
      "Interatomic Distance: 2.3 error 0.16604277826908564\n",
      "Interatomic Distance: 2.4 VQE Result: -7.663761446292037 Exact Energy: -7.829937002623392\n",
      "Interatomic Distance: 2.4 error 0.16617555633135517\n",
      "Interatomic Distance: 2.5 VQE Result: -7.5972705236924405 Exact Energy: -7.823076642134087\n",
      "Interatomic Distance: 2.5 error 0.22580611844164622\n",
      "Interatomic Distance: 2.6 VQE Result: -7.6115289696292425 Exact Energy: -7.816795150472927\n",
      "Interatomic Distance: 2.6 error 0.20526618084368486\n",
      "Interatomic Distance: 2.7 VQE Result: -7.675322264144402 Exact Energy: -7.811168284803363\n",
      "Interatomic Distance: 2.7 error 0.13584602065896068\n",
      "Interatomic Distance: 2.8 VQE Result: -7.6443984040774815 Exact Energy: -7.806229560089851\n",
      "Interatomic Distance: 2.8 error 0.16183115601236953\n",
      "Interatomic Distance: 2.9 VQE Result: -7.6714337375963515 Exact Energy: -7.801973602332554\n",
      "Interatomic Distance: 2.9 error 0.13053986473620238\n",
      "Interatomic Distance: 3.0 VQE Result: -7.664179199379697 Exact Energy: -7.798363430915123\n",
      "Interatomic Distance: 3.0 error 0.1341842315354267\n",
      "Interatomic Distance: 3.1 VQE Result: -7.656841171245158 Exact Energy: -7.795340451637531\n",
      "Interatomic Distance: 3.1 error 0.1384992803923737\n",
      "Interatomic Distance: 3.2 VQE Result: -7.673643149063843 Exact Energy: -7.792834806738603\n",
      "Interatomic Distance: 3.2 error 0.11919165767475981\n",
      "Interatomic Distance: 3.3 VQE Result: -7.6590491359117365 Exact Energy: -7.790774009971014\n",
      "Interatomic Distance: 3.3 error 0.13172487405927757\n",
      "Interatomic Distance: 3.4 VQE Result: -7.631135887723291 Exact Energy: -7.789088897991485\n",
      "Interatomic Distance: 3.4 error 0.1579530102681943\n",
      "Interatomic Distance: 3.5 VQE Result: -7.6617203227940855 Exact Energy: -7.787716973466141\n",
      "Interatomic Distance: 3.5 error 0.12599665067205557\n",
      "Interatomic Distance: 3.6 VQE Result: -7.671856561804344 Exact Energy: -7.786603763673841\n",
      "Interatomic Distance: 3.6 error 0.1147472018694966\n",
      "Interatomic Distance: 3.7 VQE Result: -7.651307062553405 Exact Energy: -7.785702912499893\n",
      "Interatomic Distance: 3.7 error 0.1343958499464879\n",
      "Interatomic Distance: 3.8 VQE Result: -7.68566468070796 Exact Energy: -7.7849755916980845\n",
      "Interatomic Distance: 3.8 error 0.09931091099012423\n",
      "Interatomic Distance: 3.9 VQE Result: -7.7051675260130965 Exact Energy: -7.784389611673672\n",
      "Interatomic Distance: 3.9 error 0.0792220856605752\n",
      "All energies have been calculated\n"
     ]
    }
   ],
   "source": [
    "distances=np.arange(0.5,4.0,0.1)\n",
    "exact_energies=[]\n",
    "vqe_energies=[]\n",
    "errors=[]\n",
    "\n",
    "# Choose the classical optimizer\n",
    "optimizer = COBYLA(maxiter=200)\n",
    "\n",
    "for d in distances:\n",
    "    inter_dist=d\n",
    "\n",
    "    #Call the compute_LiH_qubitOp function\n",
    "    qubitOp, num_spin_orbitals, num_particles, qubit_reduction,shift = compute_LiH_qubitOp(map_type,inter_dist)\n",
    "\n",
    "    #Call the exact_solver for reference value\n",
    "    ref = exact_solver(qubitOp,shift)\n",
    "    exact_energies.append(ref)\n",
    "\n",
    "    # Specify your initial state\n",
    "    init_state = HartreeFock(num_orbitals=num_spin_orbitals, \n",
    "                             num_particles=num_particles, \n",
    "                             qubit_mapping=map_type)\n",
    "\n",
    "    # Select a state preparation ansatz\n",
    "    # Equivalently, choose a parameterization for our trial wave function.\n",
    "\n",
    "    var_form = EfficientSU2(qubitOp.num_qubits, entanglement=\"linear\")\n",
    "\n",
    "    # Choose where to run/simulate our circuit\n",
    "    quantum_instance = QuantumInstance(backend=backend, \n",
    "                                       shots=2000, \n",
    "                                       noise_model=noise_model, \n",
    "                                       coupling_map=coupling_map,\n",
    "                                       measurement_error_mitigation_cls=CompleteMeasFitter,\n",
    "                                       cals_matrix_refresh_period=30)\n",
    "    # Run your VQE instance\n",
    "    vqe = VQE(qubitOp, var_form, optimizer)\n",
    "    vqe_result = np.real(vqe.run(quantum_instance)['eigenvalue'] + shift)                                       \n",
    "    vqe_energies.append(vqe_result)\n",
    "    errors.append(vqe_result-exact_energies[-1])\n",
    "    print(\"Interatomic Distance:\", np.round(inter_dist, 2), \"VQE Result:\", vqe_result, \"Exact Energy:\", exact_energies[-1])\n",
    "    print(\"Interatomic Distance:\", np.round(inter_dist, 2), \"error\", vqe_result-exact_energies[-1])\n",
    "\n",
    "print(\"All energies have been calculated\")                                \n"
   ]
  },
  {
   "cell_type": "code",
   "execution_count": 29,
   "metadata": {},
   "outputs": [
    {
     "data": {
      "image/png": "[encoded data removed]",
      "text/plain": [
       "<Figure size 1440x720 with 1 Axes>"
      ]
     },
     "metadata": {
      "needs_background": "light"
     },
     "output_type": "display_data"
    },
    {
     "data": {
      "text/plain": [
       "<Figure size 7200x3600 with 0 Axes>"
      ]
     },
     "metadata": {},
     "output_type": "display_data"
    }
   ],
   "source": [
    "plt.figure(figsize=(20,10))\n",
    "plt.plot(distances, exact_energies, label=\"Exact Energy\")\n",
    "plt.plot(distances, vqe_energies, label=\"VQE Energy\")\n",
    "plt.xlabel('Atomic distance (Angstrom)')\n",
    "plt.ylabel('Energy')\n",
    "plt.legend()\n",
    "plt.figure(figsize=(100,50))\n",
    "plt.show()"
   ]
  },
  {
   "cell_type": "code",
   "execution_count": 31,
   "metadata": {},
   "outputs": [
    {
     "data": {
      "text/plain": [
       "0.1774104454618055"
      ]
     },
     "execution_count": 31,
     "metadata": {},
     "output_type": "execute_result"
    }
   ],
   "source": [
    "np.mean(errors)"
   ]
  }
 ],
 "metadata": {
  "kernelspec": {
   "display_name": "Python 3",
   "language": "python",
   "name": "python3"
  },
  "language_info": {
   "codemirror_mode": {
    "name": "ipython",
    "version": 3
   },
   "file_extension": ".py",
   "mimetype": "text/x-python",
   "name": "python",
   "nbconvert_exporter": "python",
   "pygments_lexer": "ipython3",
   "version": "3.8.5"
  }
 },
 "nbformat": 4,
 "nbformat_minor": 4
}
