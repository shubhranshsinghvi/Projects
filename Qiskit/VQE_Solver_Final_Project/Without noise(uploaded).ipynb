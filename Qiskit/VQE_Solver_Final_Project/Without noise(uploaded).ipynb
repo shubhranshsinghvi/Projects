{
 "cells": [
  {
   "cell_type": "markdown",
   "metadata": {},
   "source": [
    "# Qiskit Summer School Final Project: VQE\n",
    "\n",
    "#### For this optional final challenge, you will be designing your own implementation of a variational quantum eigensolver (VQE) algorithm that simulates the ground state energy of the Lithium Hydride (LiH) molecule. Through out this challenge, you will be able to make choices on how you want to compose your simulation and what is the final deliverable that you want to showcase to your classmates and friends.#  IMPORT STATEMENTS"
   ]
  },
  {
   "cell_type": "markdown",
   "metadata": {},
   "source": [
    "## Import Statements"
   ]
  },
  {
   "cell_type": "code",
   "execution_count": 17,
   "metadata": {},
   "outputs": [
    {
     "name": "stderr",
     "output_type": "stream",
     "text": [
      "ibmqfactory.load_account:WARNING:2020-08-07 17:30:30,864: Credentials are already in use. The existing account in the session will be replaced.\n"
     ]
    }
   ],
   "source": [
    "from qiskit import BasicAer, Aer, IBMQ\n",
    "from qiskit.aqua import QuantumInstance, aqua_globals\n",
    "from qiskit.aqua.algorithms import VQE, ExactEigensolver, NumPyEigensolver\n",
    "from qiskit.aqua.components.initial_states import Zero\n",
    "from qiskit.aqua.components.optimizers import COBYLA, L_BFGS_B, SLSQP, SPSA\n",
    "from qiskit.aqua.components.variational_forms import RY, RYRZ, SwapRZ\n",
    "from qiskit.aqua.operators import WeightedPauliOperator, Z2Symmetries\n",
    "from qiskit.chemistry import FermionicOperator\n",
    "from qiskit.chemistry.drivers import PySCFDriver, UnitsType\n",
    "from qiskit.chemistry.components.variational_forms import UCCSD\n",
    "from qiskit.chemistry.components.initial_states import HartreeFock\n",
    "\n",
    "from qiskit.providers.aer import QasmSimulator\n",
    "from qiskit.providers.aer.noise import NoiseModel\n",
    "from qiskit.providers.aer.noise.errors import QuantumError, ReadoutError\n",
    "from qiskit.providers.aer.noise.errors import pauli_error\n",
    "from qiskit.providers.aer.noise.errors import depolarizing_error\n",
    "from qiskit.providers.aer.noise.errors import thermal_relaxation_error\n",
    "from qiskit.ignis.mitigation.measurement import CompleteMeasFitter\n",
    "from qiskit.providers.aer import noise\n",
    "provider = IBMQ.load_account()\n",
    "import warnings\n",
    "warnings.filterwarnings('ignore')\n",
    "import numpy as np\n",
    "import matplotlib.pyplot as plt\n",
    "from functools import partial\n",
    "%matplotlib inline"
   ]
  },
  {
   "cell_type": "markdown",
   "metadata": {},
   "source": [
    "## Classically solve for the lowest eigenvalue"
   ]
  },
  {
   "cell_type": "code",
   "execution_count": 3,
   "metadata": {},
   "outputs": [],
   "source": [
    "def exact_solver(qubitOp,shift):\n",
    "    ee = NumPyEigensolver(qubitOp)\n",
    "    result = ee.run()\n",
    "    ref = result['energy'] + shift\n",
    "    return np.real(ref)"
   ]
  },
  {
   "cell_type": "markdown",
   "metadata": {},
   "source": [
    "## Simulation backend"
   ]
  },
  {
   "cell_type": "code",
   "execution_count": 4,
   "metadata": {},
   "outputs": [],
   "source": [
    "backend=Aer.get_backend('qasm_simulator')"
   ]
  },
  {
   "cell_type": "markdown",
   "metadata": {},
   "source": [
    "## MAPPING TYPE"
   ]
  },
  {
   "cell_type": "code",
   "execution_count": 5,
   "metadata": {},
   "outputs": [],
   "source": [
    "map_type=\"parity\""
   ]
  },
  {
   "cell_type": "markdown",
   "metadata": {},
   "source": [
    "## Noise Model"
   ]
  },
  {
   "cell_type": "code",
   "execution_count": 6,
   "metadata": {},
   "outputs": [],
   "source": [
    "#Define our noise model based on the ibmq_essex chip\n",
    "chip_name = 'ibmq_essex'\n",
    "device = provider.get_backend(chip_name)\n",
    "coupling_map = device.configuration().coupling_map\n",
    "noise_model = noise.device.basic_device_noise_model(device.properties())\n",
    "basis_gates = noise_model.basis_gates"
   ]
  },
  {
   "cell_type": "markdown",
   "metadata": {},
   "source": [
    "## Define your function for computing the qubit operations of LiH"
   ]
  },
  {
   "cell_type": "code",
   "execution_count": 7,
   "metadata": {},
   "outputs": [],
   "source": [
    "def compute_LiH_qubitOp(map_type, inter_dist, basis='sto3g'):\n",
    "    \n",
    "    # Specify details of our molecule\n",
    "    driver = PySCFDriver(atom='Li .0 .0 .0; H .0 .0 ' + str(inter_dist), unit=UnitsType.ANGSTROM, charge=0, spin=0, basis=basis)\n",
    "\n",
    "    # Compute relevant 1 and 2 body integrals.\n",
    "    molecule = driver.run()\n",
    "    h1 = molecule.one_body_integrals\n",
    "    h2 = molecule.two_body_integrals\n",
    "    nuclear_repulsion_energy = molecule.nuclear_repulsion_energy\n",
    "    \n",
    "    num_particles = molecule.num_alpha + molecule.num_beta\n",
    "    num_spin_orbitals = molecule.num_orbitals * 2\n",
    "#     print(\"HF energy: {}\".format(molecule.hf_energy - molecule.nuclear_repulsion_energy))\n",
    "#     print(\"# of electrons: {}\".format(num_particles))\n",
    "#     print(\"# of spin orbitals: {}\".format(num_spin_orbitals))\n",
    "\n",
    "    # Please be aware that the idx here with respective to original idx\n",
    "    freeze_list = [0]\n",
    "    remove_list = [-3, -2] # negative number denotes the reverse order\n",
    "    \n",
    "    # Prepare full idx of freeze_list and remove_list\n",
    "    # Convert all negative idx to positive\n",
    "    remove_list = [x % molecule.num_orbitals for x in remove_list]\n",
    "    freeze_list = [x % molecule.num_orbitals for x in freeze_list]\n",
    "    \n",
    "    # Update the idx in remove_list of the idx after frozen, since the idx of orbitals are changed after freezing\n",
    "    remove_list = [x - len(freeze_list) for x in remove_list]\n",
    "    remove_list += [x + molecule.num_orbitals - len(freeze_list)  for x in remove_list]\n",
    "    freeze_list += [x + molecule.num_orbitals for x in freeze_list]\n",
    "\n",
    "    # Prepare fermionic hamiltonian with orbital freezing and eliminating, and then map to qubit hamiltonian\n",
    "    # and if PARITY mapping is selected, reduction qubits\n",
    "    energy_shift = 0.0\n",
    "    qubit_reduction = True if map_type == 'parity' else False\n",
    "\n",
    "    ferOp = FermionicOperator(h1=h1, h2=h2)\n",
    "    if len(freeze_list) > 0:\n",
    "        ferOp, energy_shift = ferOp.fermion_mode_freezing(freeze_list)\n",
    "        num_spin_orbitals -= len(freeze_list)\n",
    "        num_particles -= len(freeze_list)\n",
    "    if len(remove_list) > 0:\n",
    "        ferOp = ferOp.fermion_mode_elimination(remove_list)\n",
    "        num_spin_orbitals -= len(remove_list)\n",
    "\n",
    "    qubitOp = ferOp.mapping(map_type=map_type)\n",
    "    qubitOp = Z2Symmetries.two_qubit_reduction(qubitOp, num_particles) if qubit_reduction else qubitOp\n",
    "    qubitOp.chop(10**-10)\n",
    "    shift = energy_shift + molecule.nuclear_repulsion_energy\n",
    "    return qubitOp, num_spin_orbitals, num_particles, qubit_reduction, shift"
   ]
  },
  {
   "cell_type": "markdown",
   "metadata": {},
   "source": [
    "## Execute the VQE algorithm for different values of inter_dist"
   ]
  },
  {
   "cell_type": "code",
   "execution_count": 13,
   "metadata": {},
   "outputs": [
    {
     "name": "stdout",
     "output_type": "stream",
     "text": [
      "Interatomic Distance: 0.5 error 2.986055847031821e-12\n",
      "Interatomic Distance: 0.6 error 2.1733725930062064e-12\n",
      "Interatomic Distance: 0.7 error 3.8539837987627834e-11\n",
      "Interatomic Distance: 0.8 error 2.7249313916399842e-12\n",
      "Interatomic Distance: 0.9 error 1.298516849601583e-12\n",
      "Interatomic Distance: 1.0 error 2.8981261834815086e-12\n",
      "Interatomic Distance: 1.1 error 2.384048514159076e-11\n",
      "Interatomic Distance: 1.2 error 2.9247715360725124e-12\n",
      "Interatomic Distance: 1.3 error 2.4344970483980433e-12\n",
      "Interatomic Distance: 1.4 error 6.370903804508998e-12\n",
      "Interatomic Distance: 1.5 error 1.5924150886803545e-11\n",
      "Interatomic Distance: 1.6 error 2.5053736862901133e-11\n",
      "Interatomic Distance: 1.7 error 2.716227243126923e-11\n",
      "Interatomic Distance: 1.8 error 4.172662215751188e-12\n",
      "Interatomic Distance: 1.9 error 7.0956573949843005e-12\n",
      "Interatomic Distance: 2.0 error 5.496669785998165e-11\n",
      "Interatomic Distance: 2.1 error 3.780709079137523e-11\n",
      "Interatomic Distance: 2.2 error 9.212364204813639e-11\n",
      "Interatomic Distance: 2.3 error 2.5125146407845023e-10\n",
      "Interatomic Distance: 2.4 error 6.534488505849367e-10\n",
      "Interatomic Distance: 2.5 error 7.277245472891991e-10\n",
      "Interatomic Distance: 2.6 error 1.9837864684291162e-09\n",
      "Interatomic Distance: 2.7 error 1.4448913177034228e-09\n",
      "Interatomic Distance: 2.8 error 4.609296944124708e-09\n",
      "Interatomic Distance: 2.9 error 1.2568780682897795e-08\n",
      "Interatomic Distance: 3.0 error 1.6331648922118802e-08\n",
      "Interatomic Distance: 3.1 error 3.293032158069309e-08\n",
      "Interatomic Distance: 3.2 error 4.4415310540557584e-08\n",
      "Interatomic Distance: 3.3 error 4.96413061767953e-08\n",
      "Interatomic Distance: 3.4 error 5.3060894344980625e-08\n",
      "Interatomic Distance: 3.5 error 5.00845134254746e-08\n",
      "Interatomic Distance: 3.6 error 3.928185510204685e-08\n",
      "Interatomic Distance: 3.7 error 3.35598064893361e-08\n",
      "Interatomic Distance: 3.8 error 2.526779496747622e-08\n",
      "Interatomic Distance: 3.9 error 1.735078747344687e-08\n",
      "All energies have been calculated\n"
     ]
    }
   ],
   "source": [
    "distances=np.arange(0.5,4.0,0.1)\n",
    "exact_energies=[]\n",
    "vqe_energies=[]\n",
    "errors=[]\n",
    "\n",
    "# Choose the classical optimizer\n",
    "optimizer = L_BFGS_B(maxiter=10)\n",
    "\n",
    "for d in distances:\n",
    "    inter_dist=d\n",
    "\n",
    "    #Call the compute_LiH_qubitOp function\n",
    "    qubitOp, num_spin_orbitals, num_particles, qubit_reduction,shift = compute_LiH_qubitOp(map_type,inter_dist)\n",
    "\n",
    "    #Call the exact_solver for reference value\n",
    "    ref = exact_solver(qubitOp,shift)\n",
    "    exact_energies.append(ref)\n",
    "\n",
    "    # Specify your initial state\n",
    "    init_state = HartreeFock(num_orbitals=num_spin_orbitals, \n",
    "                             num_particles=num_particles, \n",
    "                             qubit_mapping=map_type)\n",
    "\n",
    "    # Select a state preparation ansatz\n",
    "    # Equivalently, choose a parameterization for our trial wave function.\n",
    "\n",
    "    var_form = UCCSD(num_orbitals=num_spin_orbitals,\n",
    "             num_particles=num_particles,\n",
    "             initial_state=init_state,\n",
    "             qubit_mapping=map_type)\n",
    "\n",
    "    # Choose where to run/simulate our circuit\n",
    "    quantum_instance = QuantumInstance(backend=backend, \n",
    "                                       shots=10, \n",
    "                                       noise_model=noise_model, \n",
    "                                       coupling_map=coupling_map,\n",
    "                                       measurement_error_mitigation_cls=CompleteMeasFitter,\n",
    "                                       cals_matrix_refresh_period=30)\n",
    "    # Run your VQE instance\n",
    "    vqe = VQE(qubitOp, var_form, optimizer)\n",
    "    vqe_result = np.real(vqe.run(backend)['eigenvalue'] + shift)                                       \n",
    "    vqe_energies.append(vqe_result)\n",
    "    errors.append(vqe_result-exact_energies[-1])\n",
    "   # print(i,\"Interatomic Distance:\", np.round(inter_dist, 2), \"VQE Result:\", vqe_result, \"Exact Energy:\", exact_energies[-1])\n",
    "    print(\"Interatomic Distance:\", np.round(inter_dist, 2), \"error\", vqe_result-exact_energies[-1])\n",
    "\n",
    "print(\"All energies have been calculated\")                                \n"
   ]
  },
  {
   "cell_type": "code",
   "execution_count": 21,
   "metadata": {},
   "outputs": [
    {
     "data": {
      "image/png": "[encoded data removed]",
      "text/plain": [
       "<Figure size 1440x720 with 1 Axes>"
      ]
     },
     "metadata": {
      "needs_background": "light"
     },
     "output_type": "display_data"
    }
   ],
   "source": [
    "plt.figure(figsize=(20,10))\n",
    "plt.plot(distances, exact_energies, label=\"Exact Energy\")\n",
    "plt.plot(distances, vqe_energies, label=\"VQE Energy\")\n",
    "plt.xlabel('Atomic distance (Angstrom)')\n",
    "plt.ylabel('Energy')\n",
    "plt.legend()\n",
    "plt.show()"
   ]
  }
 ],
 "metadata": {
  "kernelspec": {
   "display_name": "Python 3",
   "language": "python",
   "name": "python3"
  },
  "language_info": {
   "codemirror_mode": {
    "name": "ipython",
    "version": 3
   },
   "file_extension": ".py",
   "mimetype": "text/x-python",
   "name": "python",
   "nbconvert_exporter": "python",
   "pygments_lexer": "ipython3",
   "version": "3.8.2"
  }
 },
 "nbformat": 4,
 "nbformat_minor": 4
}
